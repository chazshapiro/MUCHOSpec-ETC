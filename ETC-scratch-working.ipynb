{
 "cells": [
  {
   "cell_type": "code",
   "execution_count": 4,
   "id": "a9b50dde",
   "metadata": {},
   "outputs": [],
   "source": [
    "from ETC_import import *\n",
    "from numpy import array, arange, vstack, log\n",
    "#import numpy as np"
   ]
  },
  {
   "cell_type": "code",
   "execution_count": 11,
   "id": "7bb12e94",
   "metadata": {},
   "outputs": [
    {
     "data": {
      "text/plain": [
       "<module 'argparse' from '/usr/local/palomar/anaconda3/envs/astroconda/lib/python3.7/argparse.py'>"
      ]
     },
     "execution_count": 11,
     "metadata": {},
     "output_type": "execute_result"
    }
   ],
   "source": [
    "argparse"
   ]
  },
  {
   "cell_type": "code",
   "execution_count": 5,
   "id": "fc33e89c",
   "metadata": {},
   "outputs": [],
   "source": [
    "import argparse\n",
    "\n",
    "help = 'Run the Exposure Time Calculator.  Outputs are SNR, EXPTIME, and wavelength range. '\n",
    "help += 'The model assumes the spectrograph slit is fed by a 3-path image slicer '\n",
    "help += 'and that all 3 signal paths are summed for the SNR calculation.'\n",
    "parser = argparse.ArgumentParser(description=help)\n",
    "SNRparam = parser.add_argument_group('SNR parameters')\n",
    "\n",
    "help = 'Spectrograph channel used for SNR'\n",
    "parser.add_argument('channel', type=str, choices=channels ,help=help)\n",
    "\n",
    "help = 'Min and max wavelength (nm) for SNR avg, e.g. \"500 510\". Will be rounded up to a whole number of bins'\n",
    "parser.add_argument('wrange', type=float ,nargs=2 ,help=help )\n",
    "\n",
    "help = 'Fix SNR or EXPTIME and calculate the other'\n",
    "parser.add_argument('ETCmode', type=str, choices=['SNR','EXPTIME'], help=help)\n",
    "\n",
    "help = 'Value of the fixed parameter: SNR (dimensionless) or EXPTIME (s)'\n",
    "parser.add_argument('ETCfixed', type=float, help=help)\n",
    "\n",
    "help = 'On-chip binning along dispersion (D) and spatial (S) axes'\n",
    "parser.add_argument('-binning', type=int, nargs=2, default=[1,1], metavar=('BIN_D','BIN_S') ,help=help)\n",
    "\n",
    "help = 'Number of spatial pixels on either side of profile center to use for SNR. \\\n",
    "If none, fit spatial profile'\n",
    "parser.add_argument('-SNR_pix', type=int, default=None, help=help)\n",
    "\n",
    "help = 'Plot SNR vs. wavelength for the solution'\n",
    "parser.add_argument('-plotSNR', action='store_true', help=help)\n",
    "\n",
    "help = 'Make diagnostic plots'\n",
    "parser.add_argument('-plotdiag', action='store_true', help=help)\n",
    "\n",
    "obsparam = parser.add_argument_group('Observation conditions (ALL REQUIRED)')\n",
    "\n",
    "help = 'Slit width (arcsec)'\n",
    "obsparam.add_argument('-slit', type=float, required=True, help=help)\n",
    "\n",
    "help = 'Seeing FWHM (arcsec) defined at pivot wavelength (nm)'\n",
    "obsparam.add_argument('-seeing', type=float, nargs=2, metavar=('SEEING','PIVOT'), required=True, help=help)\n",
    "\n",
    "help = 'Airmass (dimensionless)'\n",
    "obsparam.add_argument('-airmass', type=float, required=True, help=help)\n",
    "\n",
    "help = 'Sky brightness Magnitude per arcsec^2'\n",
    "obsparam.add_argument('-skymag', type=float, required=True, help=help)\n",
    "\n",
    "sourceparam = parser.add_argument_group('Source parameters')\n",
    "\n",
    "help = 'REQUIRED Astronomical source model type'\n",
    "sourceparam.add_argument('-srcmodel', type=str, required=True, choices=['blackbody', 'template'], help=help)\n",
    "\n",
    "help = 'Source template category and filename; required with -srcmodel template'\n",
    "sourceparam.add_argument('-srctemp', type=str, nargs=2, metavar=('CAT','FILE'), help=help)\n",
    "\n",
    "help = 'Blackbody temperature (K); required with -srcmodel blackbody'\n",
    "sourceparam.add_argument('-tempK', type=float, help=help)\n",
    "\n",
    "help = 'REQUIRED Source magnitude'\n",
    "sourceparam.add_argument('-mag', type=float, required=True, help=help)\n",
    "\n",
    "help = 'REQUIRED Reference system and filter for source magnitude, e.g. \"VEGA johnson_v\"'\n",
    "sourceparam.add_argument('-magref', type=str, nargs=2, metavar=('SYSTEM','FILTER'), required=True, help=help)\n",
    "\n",
    "pass"
   ]
  },
  {
   "cell_type": "code",
   "execution_count": 12,
   "id": "d023080d",
   "metadata": {},
   "outputs": [],
   "source": [
    "testcmd = 'G 620.4 620.57 SNR 10 -slit .56 -seeing 1.1 500 -airmass 1 -skymag 21.' \\\n",
    "         +' -srcmodel blackbody -tempK 6000' \\\n",
    "         +' -mag 20. -magref AB johnson_r'\n",
    "args = parser.parse_args(testcmd.split())\n",
    "\n",
    "\n",
    "# Validity checks on inputs\n",
    "\n",
    "if args.srcmodel=='template' and args.srctemp is None:\n",
    "    parser.error(\"-srcmodel template requires -srctemp\")\n",
    "\n",
    "choices = ['nonstellar', 'novae', 'current_calspec']\n",
    "if args.srctemp is not None:\n",
    "    if args.srctemp[0] not in choices: parser.error(\"-srctemp CAT must be in \"+str(choices))\n",
    "else:\n",
    "    args.srctemp = [None,None]\n",
    "\n",
    "if args.srcmodel=='blackbody' and args.tempK is None:\n",
    "    parser.error(\"-srcmodel blackbody requires -tempK\")\n",
    "\n",
    "choices = ['AB','VEGA']\n",
    "if args.magref[0].upper() not in choices: parser.error('-magref SYSTEM must be in '+str(choices))\n",
    "\n",
    "# Append units to inputs where applicable\n",
    "args.slit *= u.arcsec\n",
    "args.wrange *= u.nm\n",
    "if args.ETCmode == 'EXPTIME': args.ETCfixed *= u.s\n",
    "args.seeing[0] *= u.arcsec\n",
    "args.seeing[1] *= u.nm\n",
    "\n",
    "#args.skymag *= \n",
    "if args.tempK is not None: args.tempK*=u.K\n",
    "    \n",
    "#parser.parse_args(['-h'])"
   ]
  },
  {
   "cell_type": "code",
   "execution_count": 7,
   "id": "4110a35f",
   "metadata": {},
   "outputs": [
    {
     "data": {
      "text/plain": [
       "'G 500 510 SNR 10 -slit .5 -seeing 1 500 -airmass 1 -skymag 21.4 -srcmodel blackbody -tempK 6000 -mag 18. -magref VEGA johnson_v'"
      ]
     },
     "execution_count": 7,
     "metadata": {},
     "output_type": "execute_result"
    }
   ],
   "source": [
    "testcmd"
   ]
  },
  {
   "cell_type": "code",
   "execution_count": 13,
   "id": "344a915e",
   "metadata": {},
   "outputs": [],
   "source": [
    "# User parameters\n",
    "#\n",
    "# TODOS: REDSHIFT, K-CORRECTION, GALAXY EXTINCTION\n",
    "#        USER SED, EXTENDED SOURCES, HOST GALAXY\n",
    "#        MOON PHASE/POSITION, ZODIACAL LIGHT\n",
    "\n",
    "# Instrument\n",
    "slit_w = args.slit\n",
    "bin_dispers, bin_spatial = args.binning\n",
    "\n",
    "# Conditions\n",
    "seeing_avg500nm, pivot = args.seeing\n",
    "airmass = args.airmass\n",
    "skymag = args.skymag     # Normalized to same zero-point+filter as source\n",
    "\n",
    "# Target\n",
    "source={\n",
    "'model' : args.srcmodel      # Choose from [blackbody, template, constant?]\n",
    ",'type' : args.srctemp[0]    # Templates: nonstellar, novae, current_calspec\n",
    ",'file' : args.srctemp[1]    # Templates: case sensitive, available from catalog. e.g. elliptical_001, sneia_salt2_transient\n",
    ",'temperature' : args.tempK\n",
    "\n",
    ",'magnitude' : args.mag \n",
    ",'magzero' : args.magref[0]    # AB or VEGA\n",
    ",'magfilter' : args.magref[1]  # Filter names available in Astropy catalog\n",
    "\n",
    ",'extended' : False         # If true, must specify mag/arcsec**2 or mag/arcmin**2\n",
    ",'hostSB' : None            # Host surface brightness in mag/area\n",
    "}\n",
    "\n",
    "# Analysis / SNR\n",
    "\n",
    "SNR_range = args.wrange  # Range of interest\n",
    "SNR_channel = args.channel\n",
    "SNR_pix = args.SNR_pix  # Number of spatial pixels on either side of profile center to use in SNR;\n",
    "                        # If none, assume spatial profile fit\n",
    "\n",
    "if args.ETCmode == 'SNR':\n",
    "    SNR_target, exptime = (args.ETCfixed, None)\n",
    "elif args.ETCmode == 'EXPTIME':\n",
    "    SNR_target, exptime = (None, args.ETCfixed)\n",
    "else: raise Exception('Invalid ETC mode')"
   ]
  },
  {
   "cell_type": "code",
   "execution_count": 14,
   "id": "f58648c2",
   "metadata": {},
   "outputs": [],
   "source": [
    "# Some derived parameters; accounts for wavelength binning\n",
    "\n",
    "# TODO: CAN WE MOVE THESE TO IMPORT FILE?\n",
    "\n",
    "binCenters={}\n",
    "dispersion_scale={}\n",
    "for k in channels:\n",
    "    lambdamin,lambdamax = channelRange[k]\n",
    "    dispersion_scale[k]=u.pixel_scale( bin_dispers*(lambdamax-lambdamin)/(Npix_dispers[k]*u.pix) )\n",
    "    binCenters[k] = rangeQ(lambdamin,lambdamax, bin_dispers*(lambdamax-lambdamin)/Npix_dispers[k])"
   ]
  },
  {
   "cell_type": "code",
   "execution_count": 15,
   "id": "aa61bdfe",
   "metadata": {},
   "outputs": [
    {
     "ename": "AssertionError",
     "evalue": "Wavelength range must be in form [min, max]",
     "output_type": "error",
     "traceback": [
      "\u001b[0;31m---------------------------------------------------------------------------\u001b[0m",
      "\u001b[0;31mAssertionError\u001b[0m                            Traceback (most recent call last)",
      "\u001b[0;32m/tmp/ipykernel_846717/2859056350.py\u001b[0m in \u001b[0;36m<module>\u001b[0;34m\u001b[0m\n\u001b[1;32m      1\u001b[0m \u001b[0;32massert\u001b[0m \u001b[0;34m(\u001b[0m\u001b[0mSNR_target\u001b[0m \u001b[0;32mis\u001b[0m \u001b[0;32mNone\u001b[0m\u001b[0;34m)\u001b[0m \u001b[0;34m!=\u001b[0m \u001b[0;34m(\u001b[0m\u001b[0mexptime\u001b[0m \u001b[0;32mis\u001b[0m \u001b[0;32mNone\u001b[0m\u001b[0;34m)\u001b[0m\u001b[0;34m,\u001b[0m \u001b[0;34m\"Choose a fixed SNR or exptime, not both, not neither\"\u001b[0m\u001b[0;34m\u001b[0m\u001b[0;34m\u001b[0m\u001b[0m\n\u001b[1;32m      2\u001b[0m \u001b[0;34m\u001b[0m\u001b[0m\n\u001b[0;32m----> 3\u001b[0;31m \u001b[0;32massert\u001b[0m \u001b[0mSNR_range\u001b[0m\u001b[0;34m[\u001b[0m\u001b[0;36m0\u001b[0m\u001b[0;34m]\u001b[0m \u001b[0;34m>=\u001b[0m \u001b[0mSNR_range\u001b[0m\u001b[0;34m[\u001b[0m\u001b[0;36m1\u001b[0m\u001b[0;34m]\u001b[0m\u001b[0;34m,\u001b[0m \u001b[0;34m\"Wavelength range must be in form [min, max]\"\u001b[0m\u001b[0;34m\u001b[0m\u001b[0;34m\u001b[0m\u001b[0m\n\u001b[0m\u001b[1;32m      4\u001b[0m \u001b[0;32massert\u001b[0m \u001b[0mSNR_range\u001b[0m\u001b[0;34m[\u001b[0m\u001b[0;36m0\u001b[0m\u001b[0;34m]\u001b[0m \u001b[0;34m>=\u001b[0m \u001b[0mchannelRange\u001b[0m\u001b[0;34m[\u001b[0m\u001b[0mSNR_channel\u001b[0m\u001b[0;34m]\u001b[0m\u001b[0;34m[\u001b[0m\u001b[0;36m0\u001b[0m\u001b[0;34m]\u001b[0m\u001b[0;34m,\u001b[0m \u001b[0;34m\"Wavelength range not in channel\"\u001b[0m\u001b[0;34m\u001b[0m\u001b[0;34m\u001b[0m\u001b[0m\n\u001b[1;32m      5\u001b[0m \u001b[0;32massert\u001b[0m \u001b[0mSNR_range\u001b[0m\u001b[0;34m[\u001b[0m\u001b[0;36m1\u001b[0m\u001b[0;34m]\u001b[0m \u001b[0;34m<=\u001b[0m \u001b[0mchannelRange\u001b[0m\u001b[0;34m[\u001b[0m\u001b[0mSNR_channel\u001b[0m\u001b[0;34m]\u001b[0m\u001b[0;34m[\u001b[0m\u001b[0;36m1\u001b[0m\u001b[0;34m]\u001b[0m\u001b[0;34m,\u001b[0m \u001b[0;34m\"Wavelength range not in channel\"\u001b[0m\u001b[0;34m\u001b[0m\u001b[0;34m\u001b[0m\u001b[0m\n",
      "\u001b[0;31mAssertionError\u001b[0m: Wavelength range must be in form [min, max]"
     ]
    }
   ],
   "source": [
    "assert (SNR_target is None) != (exptime is None), \"Choose a fixed SNR or exptime, not both, not neither\"\n",
    "\n",
    "assert SNR_range[0] >= SNR_range[1], \"Wavelength range must be in form [min, max]\"\n",
    "assert SNR_range[0] >= channelRange[SNR_channel][0], \"Wavelength range not in channel\"\n",
    "assert SNR_range[1] <= channelRange[SNR_channel][1], \"Wavelength range not in channel\""
   ]
  },
  {
   "cell_type": "code",
   "execution_count": 16,
   "id": "cb653bec",
   "metadata": {},
   "outputs": [],
   "source": [
    "# Model and normalize source spectrum\n",
    "#\n",
    "# TODO:  ERROR CHECKS - verify template paths, verify all needed keywords\n",
    "\n",
    "if source['model'].lower() == 'template':\n",
    "    label = source['type']+'/'+source['file']\n",
    "    template_path = 'sources/'+label+'.fits'\n",
    "    sourceSpectrum = SourceSpectrum.from_file(template_path)\n",
    "    \n",
    "elif source['model'].lower() == 'blackbody':\n",
    "    from synphot.models import BlackBodyNorm1D\n",
    "    label = 'blackbody '+str(source['temperature'])\n",
    "    sourceSpectrum = SourceSpectrum(BlackBodyNorm1D, temperature=source['temperature'])\n",
    "\n",
    "#elif source['model'].lower() == 'constant':\n",
    "#from astropy.modeling.models import Const1D    \n",
    "\n",
    "else: raise Exception('Invalid source model')\n",
    "    \n",
    "# Load bandpass for normalization\n",
    "norm_band = SpectralElement.from_filter(source['magfilter'])\n",
    "\n",
    "# Normalize\n",
    "if source['magzero'].upper() == 'AB': magunit=u.ABmag\n",
    "elif source['magzero'].upper() == 'VEGA': magunit=uu.VEGAMAG\n",
    "source['mag'] = source['magnitude']*magunit\n",
    "\n",
    "if magunit is uu.VEGAMAG:\n",
    "    sourceSpectrum = sourceSpectrum.normalize(source['mag'] ,band=norm_band \n",
    "                                              ,vegaspec=SourceSpectrum.from_vega())\n",
    "else:\n",
    "    sourceSpectrum = sourceSpectrum.normalize(source['mag'] ,band=norm_band \n",
    "                                              ,wavelengths=sourceSpectrum.waveset)"
   ]
  },
  {
   "cell_type": "code",
   "execution_count": 17,
   "id": "43d2ce34",
   "metadata": {},
   "outputs": [],
   "source": [
    "# Load sky background; eventually will need to interpolate a larger table\n",
    "# background units dimensions are not same as other flux units\n",
    "# File units = u.photon/u.s/u.nm/u.arcsec**2/u.m**2 ~ phot/s/wavelength  VS  nm\n",
    "\n",
    "skySpec = SourceSpectrum.from_file(CSVdir+skybackground_file ,wave_unit='nm') #HARDCODE UNIT\n",
    "# assumes units = phot/s/cm^2/Angstrom \n",
    "# normalization is wrong but proportional to phot/s/wavelength, same as file\n",
    "\n",
    "# Don't need to match mag reference and filter to source; will use whatever data we have\n",
    "skyFilter = SpectralElement.from_filter('johnson_v')\n",
    "skySpec = skySpec.normalize(skymag*uu.VEGAMAG ,band=skyFilter ,vegaspec=SourceSpectrum.from_vega() )\n",
    "\n",
    "# new units = VEGAMAG/arcsec^2 since skymag is really mag/arcsec^2\n",
    "\n",
    "# area of slit_width * spatial_pixel_height\n",
    "### TODO: different pixel scale for each channel\n",
    "area_spatpix = slit_w *(1*u.pix).to('arcsec' ,equivalencies=plate_scale[channels[0]])\n",
    "# Make dimensionless in units of arcsec^2\n",
    "area_spatpix = (area_spatpix/u.arcsec**2).to(u.dimensionless_unscaled).value\n",
    "\n",
    "skySpec = skySpec*area_spatpix"
   ]
  },
  {
   "cell_type": "code",
   "execution_count": 18,
   "id": "1ad37be5",
   "metadata": {},
   "outputs": [],
   "source": [
    "# Load \"throughput\" for atmosphere\n",
    "throughput_atm = Extinction_atm(airmass)\n",
    "\n",
    "# Load throughputs for all spectrograph channels\n",
    "throughput_spectrograph={}\n",
    "for k in channels:\n",
    "    throughput_spectrograph[k] = LoadCSVSpec(throughputFile_spectrograph[k])\n",
    "\n",
    "# Load detector QE for all channels\n",
    "QE={}\n",
    "for k in channels:\n",
    "    QE[k] = LoadCSVSpec(QEFile[k])\n",
    "    \n",
    "# Load telescope throughput\n",
    "throughput_telescope = LoadCSVSpec(throughputFile_telescope)\n",
    "\n",
    "# Load throughput for slicer optics (either side of slit)\n",
    "throughput_slicerOptics = LoadCSVSpec(throughputFile_slicer)\n",
    "\n",
    "TP={}\n",
    "for k in channels:\n",
    "    TP[k] = throughput_spectrograph[k]*QE[k]*throughput_telescope"
   ]
  },
  {
   "cell_type": "code",
   "execution_count": 19,
   "id": "b4397c43",
   "metadata": {},
   "outputs": [],
   "source": [
    "# Compute transmission thru slit/slicer sections as function of slit width and seeing(wavelength)\n",
    "# Assumes seeing-limited PSF\n",
    "\n",
    "# Slow function of wavelength so choose 10nm sampling\n",
    "lams = rangeQ(totalRange[0],totalRange[1],10*u.nm)\n",
    "slitfracs = slitFractions(lams ,slit_w ,slit_h ,seeing_avg500nm ,pivot=pivot)\n",
    "\n",
    "# Combine slit fractions arrays with Optics to make throughput elements\n",
    "throughput_slicer = {}\n",
    "throughput_slicer['center'] = SpectralElement(Empirical1D, points=lams, lookup_table=slitfracs['center'])\n",
    "throughput_slicer['side'] = SpectralElement(Empirical1D, points=lams, lookup_table=slitfracs['side'])\n",
    "throughput_slicer['side'] *= throughput_slicerOptics\n",
    "\n",
    "# Total does not include optics\n",
    "throughput_slicer['total'] = SpectralElement(Empirical1D, points=lams, lookup_table=slitfracs['total'])"
   ]
  },
  {
   "cell_type": "code",
   "execution_count": 20,
   "id": "da9a2a4a",
   "metadata": {},
   "outputs": [],
   "source": [
    "# Multiply source spectrum by all throughputs, atmosphere, slit loss, and convolve with LSF\n",
    "# These are the flux densities at the focal plane array (FPA)\n",
    "# Side slice throughputs are for a SINGLE side slice\n",
    "\n",
    "sourceSpectrumFPA={}  #Total flux summed over all spatial pixels\n",
    "skySpectrumFPA={}     #Flux PER spatial pixel\n",
    "\n",
    "for lightpath in ['center','side']:\n",
    "    sourceSpectrumFPA[lightpath] = {}\n",
    "    skySpectrumFPA[lightpath]={}\n",
    "    \n",
    "    for k in channels:\n",
    "        spec = sourceSpectrum * throughput_atm * throughput_slicer[lightpath]* TP[k]\n",
    "        if lightpath=='side': spec*=throughput_slicerOptics\n",
    "        sourceSpectrumFPA[lightpath][k] = convolveLSF(spec, slit_w ,seeing_avg500nm ,k ,pivot=pivot)\n",
    "\n",
    "        spec = skySpec * TP[k]  # Don't include atmosphere or slitloss for sky flux!\n",
    "        if lightpath=='side': spec*=throughput_slicerOptics\n",
    "        skySpectrumFPA[lightpath][k] = convolveLSF(spec, slit_w ,seeing_avg500nm ,k ,pivot=pivot)"
   ]
  },
  {
   "cell_type": "code",
   "execution_count": 21,
   "id": "531e678f",
   "metadata": {},
   "outputs": [],
   "source": [
    "# Compute pixelized spatial profiles for a flat spectrum\n",
    "# Multiplying spectra by these profiles \"distributes\" counts over pixels in spatial direction\n",
    "# THIS IS ONLY HALF THE (symmetric) PROFILE, so it is normalized to 0.5 #\n",
    "\n",
    "profile_slit = {}\n",
    "for k in channels:\n",
    "    profile_slit[k] = profileOnDetector(k ,slit_w ,seeing_avg500nm ,pivot ,binCenters[k]\n",
    "                                        ,spatial_range=None ,bin_spatial=bin_spatial)\n",
    "    # Shape is (Npix, Nlambda)"
   ]
  },
  {
   "cell_type": "code",
   "execution_count": 22,
   "id": "368a1267",
   "metadata": {},
   "outputs": [],
   "source": [
    "def SNR_from_exptime(exptime, wave_range=None, ch=None ,Np=None):\n",
    "    '''Compute SNR from inputs'''\n",
    "    '''\n",
    "    exptime: exposure time (unitful)\n",
    "    wave_range: compute average SNR for this wavelength range (unitful), requires ch\n",
    "    ch: compute SNR only for this channel\n",
    "    Np: Number of spatial pixels on either side of profile center to estimate SNR;\n",
    "        If none, assume profile fit to each channel and lightpath\n",
    "    \n",
    "    RETURNS:\n",
    "        wave_range --> single SNR\n",
    "        ch, no wave_range --> SNR/wavelength bin for whole channel\n",
    "        no keywords --> dictionary of SNR/wavelength bin for all channels\n",
    "    '''\n",
    "    \n",
    "    # Find the bins where the target wavelengths live\n",
    "    if wave_range is not None:\n",
    "        closest_bin_i = [abs(binCenters[ch]-wr).argmin() for wr in wave_range]\n",
    "\n",
    "    # Only loop over channels we need\n",
    "    if ch is not None: chanlist = ch\n",
    "    else: chanlist = channels\n",
    "\n",
    "    # Convert signal and background to counts (total per wavelength), including noise\n",
    "    # flux_unit='count' actually makes Spectrum object return counts/second,\n",
    "    #   so adjust units so we can scale by unitfull exptime\n",
    "\n",
    "    signal={}  #Total fluence (counts) summed over all spatial pixels\n",
    "    bgvar={}   #Variance (counts) PER spatial pixel read\n",
    "\n",
    "    for sigpath in ['center','side']:\n",
    "        signal[sigpath] = {}\n",
    "        for k in chanlist:\n",
    "            signal[sigpath][k] = sourceSpectrumFPA[sigpath][k](binCenters[k] \n",
    "                                    ,flux_unit='count' ,area=telescope_Area)/u.s*exptime\n",
    "\n",
    "        # Background variances get 2x to acount for sky subtraction\n",
    "        bgvar[sigpath] = {}\n",
    "        for k in chanlist:\n",
    "            bgvar[sigpath][k] = 2*skySpectrumFPA[sigpath][k](binCenters[k] \n",
    "                                    ,flux_unit='count' ,area=telescope_Area)/u.s*exptime\n",
    "            bgvar[sigpath][k] += 2*darkcurrent[k]*exptime*u.pix \n",
    "\n",
    "            bgvar[sigpath][k] *= bin_spatial  #account for more background per pixel if binning\n",
    "\n",
    "            bgvar[sigpath][k] += 2*(readnoise[k]*u.pix)**2/u.ct  #read noise per read pixel is unchanged\n",
    "            \n",
    "    SNR = {}\n",
    "\n",
    "    # Compute variance for each spatial pixel and wavelength bin; inverse sum over spatial\n",
    "    for k in chanlist:\n",
    "        if Np is None:\n",
    "            covar_ii = {}\n",
    "            for sigpath in ['center','side']:\n",
    "                cv = profile_slit[k][sigpath]**2\n",
    "                cv = cv/(profile_slit[k][sigpath]*signal[sigpath][k]+bgvar[sigpath][k])\n",
    "                cv = 2.*cv.sum(0)  # Spatial sum; doubled since using symmetric half-profile\n",
    "                covar_ii[sigpath] = 1./cv\n",
    "\n",
    "        # Combine signal and noise\n",
    "        # Channels and slicer paths treated as independent --> larger variance than simultaneous fit\n",
    "\n",
    "        # SNR assuming flux is extracted from profile fit\n",
    "        if Np is None:\n",
    "            NOISE2 = covar_ii['center'] + 2*covar_ii['side']\n",
    "            SIGNAL = signal['center'][k] + 2*signal['side'][k]\n",
    "            SNR[k] = SIGNAL/NOISE2**.5\n",
    "\n",
    "        # Repeat for peak profile pixels only\n",
    "        else:\n",
    "            SIGNAL = (signal['center'][k]*profile_slit[k]['center'][:Np] + 2*signal['side'][k]*profile_slit[k]['side'][:Np]).sum(0)\n",
    "            NOISE2 = Np*(bgvar['center'][k] + 2*bgvar['side'][k]) + SIGNAL  # SIGNAL here adds shot noise\n",
    "            SNR[k] = 2*SIGNAL/(2*NOISE2)**.5  # Use both sides of symmetric profile --> x2\n",
    "            \n",
    "        # Ensure SNR is dimensionless\n",
    "        SNR[k] = (SNR[k]/u.ct**.5).to(u.dimensionless_unscaled).value\n",
    "\n",
    "    if wave_range is not None:        return (SNR[ch][closest_bin_i[0]:closest_bin_i[1]+1]).mean()\n",
    "    elif ch is not None:              return SNR[ch]\n",
    "    else:                             return SNR"
   ]
  },
  {
   "cell_type": "code",
   "execution_count": 23,
   "id": "02ffec4f",
   "metadata": {},
   "outputs": [
    {
     "name": "stdout",
     "output_type": "stream",
     "text": [
      "      converged: True\n",
      "           flag: 'converged'\n",
      " function_calls: 8\n",
      "     iterations: 7\n",
      "           root: 290.7118616081268\n"
     ]
    }
   ],
   "source": [
    "# Solve for exptime or SNR depending on what is fixed\n",
    "\n",
    "if SNR_target is not None:\n",
    "    from scipy import optimize\n",
    "\n",
    "    #Maybe find root in log-log space where SNR(t) is ~linear\n",
    "\n",
    "    def SNRfunc(t_sec):\n",
    "        #return log( SNR_from_exptime(10**t_sec*u.s, wave_range=SNR_range, ch=SNR_channel ,method='peak') / SNR_target)\n",
    "        return SNR_from_exptime(t_sec*u.s, wave_range=SNR_range, ch=SNR_channel ,Np=SNR_pix) - SNR_target\n",
    "\n",
    "    ans = optimize.root_scalar(SNRfunc ,x0=1 ,x1=1000)\n",
    "    t = (ans.root).astype('float16')*u.s\n",
    "    print(ans)\n",
    "    \n",
    "else:\n",
    "    t = exptime\n",
    "    print(t)\n",
    "    \n",
    "# TODO: return SNR if t is fixed; must get the bins to average over"
   ]
  },
  {
   "cell_type": "markdown",
   "id": "75568475",
   "metadata": {},
   "source": [
    "END PROGRAM"
   ]
  },
  {
   "cell_type": "code",
   "execution_count": 18,
   "id": "2a1d9074",
   "metadata": {},
   "outputs": [
    {
     "data": {
      "text/plain": [
       "<astropy.visualization.units.quantity_support.<locals>.MplQuantityConverter at 0x7f3b68615790>"
      ]
     },
     "execution_count": 18,
     "metadata": {},
     "output_type": "execute_result"
    }
   ],
   "source": [
    "import matplotlib\n",
    "import matplotlib.pyplot as plt\n",
    "%matplotlib inline\n",
    "#%matplotlib notebook\n",
    "matplotlib.rcParams.update({'font.size': 14})\n",
    "\n",
    "from astropy.visualization import astropy_mpl_style, quantity_support\n",
    "plt.style.use(astropy_mpl_style)\n",
    "quantity_support()"
   ]
  },
  {
   "cell_type": "code",
   "execution_count": 25,
   "id": "26d54123",
   "metadata": {},
   "outputs": [
    {
     "data": {
      "text/plain": [
       "Text(0.5, 1.0, 'EXPTIME = 290.75 s')"
      ]
     },
     "execution_count": 25,
     "metadata": {},
     "output_type": "execute_result"
    },
    {
     "data": {
      "image/png": "[encoded data removed]",
      "text/plain": [
       "<Figure size 1080x288 with 1 Axes>"
      ]
     },
     "metadata": {},
     "output_type": "display_data"
    }
   ],
   "source": [
    "### THE RESULT! ###\n",
    "\n",
    "SNR1 = SNR_from_exptime(t)\n",
    "\n",
    "#%matplotlib notebook\n",
    "fig, ax = plt.subplots(figsize=(15,4))\n",
    "\n",
    "for k in channels:\n",
    "    ax.plot(binCenters[k], SNR1[k] ,color=channelColor[k] ,label=k)\n",
    "\n",
    "plt.ylabel('SNR / wavelength bin')\n",
    "plt.legend()\n",
    "ax.axvspan(SNR_range[0], SNR_range[1], alpha=0.2, color='grey') # shade user range\n",
    "plt.title('EXPTIME = '+str(t))"
   ]
  },
  {
   "cell_type": "code",
   "execution_count": 21,
   "id": "3bb396f6",
   "metadata": {},
   "outputs": [
    {
     "data": {
      "image/png": "[encoded data removed]",
      "text/plain": [
       "<Figure size 576x432 with 1 Axes>"
      ]
     },
     "metadata": {},
     "output_type": "display_data"
    }
   ],
   "source": [
    "# Display the source spectrum\n",
    "sourceSpectrum.plot(flux_unit=uu.FLAM)\n",
    "plt.title(label + '\\n'+ str(source['mag']) +' '+ source['magfilter'])\n",
    "plt.xlim(totalRange)\n",
    "p=plt.show()"
   ]
  },
  {
   "cell_type": "code",
   "execution_count": 49,
   "id": "f34381b5",
   "metadata": {},
   "outputs": [],
   "source": [
    "from astropy.modeling.powerlaws import PowerLaw1D  #A*(x/x0)**(-alpha)\n",
    "from astropy.modeling.functional_models import Const1D"
   ]
  },
  {
   "cell_type": "code",
   "execution_count": 64,
   "id": "66fba7b8",
   "metadata": {},
   "outputs": [],
   "source": [
    "from synphot import ReddeningLaw"
   ]
  },
  {
   "cell_type": "code",
   "execution_count": 101,
   "id": "985656da",
   "metadata": {},
   "outputs": [
    {
     "data": {
      "text/latex": [
       "$620.485 \\; \\mathrm{nm}$"
      ],
      "text/plain": [
       "<Quantity 620.485 nm>"
      ]
     },
     "execution_count": 101,
     "metadata": {},
     "output_type": "execute_result"
    }
   ],
   "source": []
  },
  {
   "cell_type": "code",
   "execution_count": 87,
   "id": "f1fc07e6",
   "metadata": {},
   "outputs": [
    {
     "data": {
      "text/plain": [
       "[<matplotlib.lines.Line2D at 0x7f3b5e36afd0>]"
      ]
     },
     "execution_count": 87,
     "metadata": {},
     "output_type": "execute_result"
    },
    {
     "data": {
      "image/png": "[encoded data removed]",
      "text/plain": [
       "<Figure size 576x432 with 1 Axes>"
      ]
     },
     "metadata": {},
     "output_type": "display_data"
    }
   ],
   "source": [
    "redlaw = ReddeningLaw.from_extinction_model('mwavg')\n",
    "y = SpectralElement(redlaw.extinction_curve(.5))\n",
    "\n",
    "\n",
    "plt.plot(x,y(x))"
   ]
  },
  {
   "cell_type": "code",
   "execution_count": 90,
   "id": "a43416b0",
   "metadata": {},
   "outputs": [
    {
     "ename": "TypeError",
     "evalue": "only dimensionless scalar quantities can be converted to Python scalars",
     "output_type": "error",
     "traceback": [
      "\u001b[0;31m---------------------------------------------------------------------------\u001b[0m",
      "\u001b[0;31mUnitConversionError\u001b[0m                       Traceback (most recent call last)",
      "\u001b[0;32m/usr/local/palomar/anaconda3/envs/astroconda/lib/python3.7/site-packages/astropy/units/quantity.py\u001b[0m in \u001b[0;36mto_value\u001b[0;34m(self, unit, equivalencies)\u001b[0m\n\u001b[1;32m    746\u001b[0m             \u001b[0;32mtry\u001b[0m\u001b[0;34m:\u001b[0m\u001b[0;34m\u001b[0m\u001b[0;34m\u001b[0m\u001b[0m\n\u001b[0;32m--> 747\u001b[0;31m                 \u001b[0mscale\u001b[0m \u001b[0;34m=\u001b[0m \u001b[0mself\u001b[0m\u001b[0;34m.\u001b[0m\u001b[0munit\u001b[0m\u001b[0;34m.\u001b[0m\u001b[0m_to\u001b[0m\u001b[0;34m(\u001b[0m\u001b[0munit\u001b[0m\u001b[0;34m)\u001b[0m\u001b[0;34m\u001b[0m\u001b[0;34m\u001b[0m\u001b[0m\n\u001b[0m\u001b[1;32m    748\u001b[0m             \u001b[0;32mexcept\u001b[0m \u001b[0mException\u001b[0m\u001b[0;34m:\u001b[0m\u001b[0;34m\u001b[0m\u001b[0;34m\u001b[0m\u001b[0m\n",
      "\u001b[0;32m/usr/local/palomar/anaconda3/envs/astroconda/lib/python3.7/site-packages/astropy/units/core.py\u001b[0m in \u001b[0;36m_to\u001b[0;34m(self, other)\u001b[0m\n\u001b[1;32m   1096\u001b[0m         raise UnitConversionError(\n\u001b[0;32m-> 1097\u001b[0;31m             f\"'{self!r}' is not a scaled version of '{other!r}'\")\n\u001b[0m\u001b[1;32m   1098\u001b[0m \u001b[0;34m\u001b[0m\u001b[0m\n",
      "\u001b[0;31mUnitConversionError\u001b[0m: 'Unit(\"nm\")' is not a scaled version of 'Unit(dimensionless)'",
      "\nDuring handling of the above exception, another exception occurred:\n",
      "\u001b[0;31mUnitConversionError\u001b[0m                       Traceback (most recent call last)",
      "\u001b[0;32m/usr/local/palomar/anaconda3/envs/astroconda/lib/python3.7/site-packages/astropy/units/quantity.py\u001b[0m in \u001b[0;36m__float__\u001b[0;34m(self)\u001b[0m\n\u001b[1;32m   1089\u001b[0m         \u001b[0;32mtry\u001b[0m\u001b[0;34m:\u001b[0m\u001b[0;34m\u001b[0m\u001b[0;34m\u001b[0m\u001b[0m\n\u001b[0;32m-> 1090\u001b[0;31m             \u001b[0;32mreturn\u001b[0m \u001b[0mfloat\u001b[0m\u001b[0;34m(\u001b[0m\u001b[0mself\u001b[0m\u001b[0;34m.\u001b[0m\u001b[0mto_value\u001b[0m\u001b[0;34m(\u001b[0m\u001b[0mdimensionless_unscaled\u001b[0m\u001b[0;34m)\u001b[0m\u001b[0;34m)\u001b[0m\u001b[0;34m\u001b[0m\u001b[0;34m\u001b[0m\u001b[0m\n\u001b[0m\u001b[1;32m   1091\u001b[0m         \u001b[0;32mexcept\u001b[0m \u001b[0;34m(\u001b[0m\u001b[0mUnitsError\u001b[0m\u001b[0;34m,\u001b[0m \u001b[0mTypeError\u001b[0m\u001b[0;34m)\u001b[0m\u001b[0;34m:\u001b[0m\u001b[0;34m\u001b[0m\u001b[0;34m\u001b[0m\u001b[0m\n",
      "\u001b[0;32m/usr/local/palomar/anaconda3/envs/astroconda/lib/python3.7/site-packages/astropy/units/quantity.py\u001b[0m in \u001b[0;36mto_value\u001b[0;34m(self, unit, equivalencies)\u001b[0m\n\u001b[1;32m    749\u001b[0m                 \u001b[0;31m# Short-cut failed; try default (maybe equivalencies help).\u001b[0m\u001b[0;34m\u001b[0m\u001b[0;34m\u001b[0m\u001b[0;34m\u001b[0m\u001b[0m\n\u001b[0;32m--> 750\u001b[0;31m                 \u001b[0mvalue\u001b[0m \u001b[0;34m=\u001b[0m \u001b[0mself\u001b[0m\u001b[0;34m.\u001b[0m\u001b[0m_to_value\u001b[0m\u001b[0;34m(\u001b[0m\u001b[0munit\u001b[0m\u001b[0;34m,\u001b[0m \u001b[0mequivalencies\u001b[0m\u001b[0;34m)\u001b[0m\u001b[0;34m\u001b[0m\u001b[0;34m\u001b[0m\u001b[0m\n\u001b[0m\u001b[1;32m    751\u001b[0m             \u001b[0;32melse\u001b[0m\u001b[0;34m:\u001b[0m\u001b[0;34m\u001b[0m\u001b[0;34m\u001b[0m\u001b[0m\n",
      "\u001b[0;32m/usr/local/palomar/anaconda3/envs/astroconda/lib/python3.7/site-packages/astropy/units/quantity.py\u001b[0m in \u001b[0;36m_to_value\u001b[0;34m(self, unit, equivalencies)\u001b[0m\n\u001b[1;32m    669\u001b[0m         return self.unit.to(unit, self.view(np.ndarray),\n\u001b[0;32m--> 670\u001b[0;31m                             equivalencies=equivalencies)\n\u001b[0m\u001b[1;32m    671\u001b[0m \u001b[0;34m\u001b[0m\u001b[0m\n",
      "\u001b[0;32m/usr/local/palomar/anaconda3/envs/astroconda/lib/python3.7/site-packages/astropy/units/core.py\u001b[0m in \u001b[0;36mto\u001b[0;34m(self, other, value, equivalencies)\u001b[0m\n\u001b[1;32m   1133\u001b[0m             return self._get_converter(Unit(other),\n\u001b[0;32m-> 1134\u001b[0;31m                                        equivalencies=equivalencies)(value)\n\u001b[0m\u001b[1;32m   1135\u001b[0m \u001b[0;34m\u001b[0m\u001b[0m\n",
      "\u001b[0;32m/usr/local/palomar/anaconda3/envs/astroconda/lib/python3.7/site-packages/astropy/units/core.py\u001b[0m in \u001b[0;36m_get_converter\u001b[0;34m(self, other, equivalencies)\u001b[0m\n\u001b[1;32m   1063\u001b[0m \u001b[0;34m\u001b[0m\u001b[0m\n\u001b[0;32m-> 1064\u001b[0;31m             \u001b[0;32mraise\u001b[0m \u001b[0mexc\u001b[0m\u001b[0;34m\u001b[0m\u001b[0;34m\u001b[0m\u001b[0m\n\u001b[0m\u001b[1;32m   1065\u001b[0m \u001b[0;34m\u001b[0m\u001b[0m\n",
      "\u001b[0;32m/usr/local/palomar/anaconda3/envs/astroconda/lib/python3.7/site-packages/astropy/units/core.py\u001b[0m in \u001b[0;36m_get_converter\u001b[0;34m(self, other, equivalencies)\u001b[0m\n\u001b[1;32m   1049\u001b[0m             return self._apply_equivalencies(\n\u001b[0;32m-> 1050\u001b[0;31m                 self, other, self._normalize_equivalencies(equivalencies))\n\u001b[0m\u001b[1;32m   1051\u001b[0m         \u001b[0;32mexcept\u001b[0m \u001b[0mUnitsError\u001b[0m \u001b[0;32mas\u001b[0m \u001b[0mexc\u001b[0m\u001b[0;34m:\u001b[0m\u001b[0;34m\u001b[0m\u001b[0;34m\u001b[0m\u001b[0m\n",
      "\u001b[0;32m/usr/local/palomar/anaconda3/envs/astroconda/lib/python3.7/site-packages/astropy/units/core.py\u001b[0m in \u001b[0;36m_apply_equivalencies\u001b[0;34m(self, unit, other, equivalencies)\u001b[0m\n\u001b[1;32m   1025\u001b[0m         raise UnitConversionError(\n\u001b[0;32m-> 1026\u001b[0;31m             f\"{unit_str} and {other_str} are not convertible\")\n\u001b[0m\u001b[1;32m   1027\u001b[0m \u001b[0;34m\u001b[0m\u001b[0m\n",
      "\u001b[0;31mUnitConversionError\u001b[0m: 'nm' (length) and '' (dimensionless) are not convertible",
      "\nDuring handling of the above exception, another exception occurred:\n",
      "\u001b[0;31mTypeError\u001b[0m                                 Traceback (most recent call last)",
      "\u001b[0;32m/tmp/ipykernel_846717/253888167.py\u001b[0m in \u001b[0;36m<module>\u001b[0;34m\u001b[0m\n\u001b[0;32m----> 1\u001b[0;31m \u001b[0msynphot\u001b[0m\u001b[0;34m.\u001b[0m\u001b[0mgenerate_wavelengths\u001b[0m\u001b[0;34m(\u001b[0m\u001b[0;36m500\u001b[0m\u001b[0;34m*\u001b[0m\u001b[0mu\u001b[0m\u001b[0;34m.\u001b[0m\u001b[0mnm\u001b[0m\u001b[0;34m,\u001b[0m\u001b[0;36m600\u001b[0m\u001b[0;34m*\u001b[0m\u001b[0mu\u001b[0m\u001b[0;34m.\u001b[0m\u001b[0mnm\u001b[0m \u001b[0;34m,\u001b[0m\u001b[0mdelta\u001b[0m\u001b[0;34m=\u001b[0m\u001b[0;36m10\u001b[0m\u001b[0;34m*\u001b[0m\u001b[0mu\u001b[0m\u001b[0;34m.\u001b[0m\u001b[0mnm\u001b[0m \u001b[0;34m,\u001b[0m\u001b[0mlog\u001b[0m\u001b[0;34m=\u001b[0m\u001b[0;32mFalse\u001b[0m\u001b[0;34m)\u001b[0m\u001b[0;34m\u001b[0m\u001b[0;34m\u001b[0m\u001b[0m\n\u001b[0m",
      "\u001b[0;32m/usr/local/palomar/anaconda3/envs/astroconda/lib/python3.7/site-packages/synphot/utils.py\u001b[0m in \u001b[0;36mgenerate_wavelengths\u001b[0;34m(minwave, maxwave, num, delta, log, wave_unit)\u001b[0m\n\u001b[1;32m    201\u001b[0m             \u001b[0mwaveset\u001b[0m \u001b[0;34m=\u001b[0m \u001b[0mnp\u001b[0m\u001b[0;34m.\u001b[0m\u001b[0mlinspace\u001b[0m\u001b[0;34m(\u001b[0m\u001b[0mminwave\u001b[0m\u001b[0;34m,\u001b[0m \u001b[0mmaxwave\u001b[0m\u001b[0;34m,\u001b[0m \u001b[0mnum\u001b[0m\u001b[0;34m,\u001b[0m \u001b[0mendpoint\u001b[0m\u001b[0;34m=\u001b[0m\u001b[0;32mFalse\u001b[0m\u001b[0;34m)\u001b[0m\u001b[0;34m\u001b[0m\u001b[0;34m\u001b[0m\u001b[0m\n\u001b[1;32m    202\u001b[0m         \u001b[0;32melse\u001b[0m\u001b[0;34m:\u001b[0m\u001b[0;34m\u001b[0m\u001b[0;34m\u001b[0m\u001b[0m\n\u001b[0;32m--> 203\u001b[0;31m             \u001b[0mwaveset\u001b[0m \u001b[0;34m=\u001b[0m \u001b[0mnp\u001b[0m\u001b[0;34m.\u001b[0m\u001b[0marange\u001b[0m\u001b[0;34m(\u001b[0m\u001b[0mminwave\u001b[0m\u001b[0;34m,\u001b[0m \u001b[0mmaxwave\u001b[0m\u001b[0;34m,\u001b[0m \u001b[0mdelta\u001b[0m\u001b[0;34m)\u001b[0m\u001b[0;34m\u001b[0m\u001b[0;34m\u001b[0m\u001b[0m\n\u001b[0m\u001b[1;32m    204\u001b[0m \u001b[0;34m\u001b[0m\u001b[0m\n\u001b[1;32m    205\u001b[0m     \u001b[0;32mreturn\u001b[0m \u001b[0mwaveset\u001b[0m\u001b[0;34m.\u001b[0m\u001b[0mastype\u001b[0m\u001b[0;34m(\u001b[0m\u001b[0mnp\u001b[0m\u001b[0;34m.\u001b[0m\u001b[0mfloat64\u001b[0m\u001b[0;34m)\u001b[0m \u001b[0;34m*\u001b[0m \u001b[0mwave_unit\u001b[0m\u001b[0;34m,\u001b[0m \u001b[0mwaveset_str\u001b[0m\u001b[0;34m\u001b[0m\u001b[0;34m\u001b[0m\u001b[0m\n",
      "\u001b[0;32m/usr/local/palomar/anaconda3/envs/astroconda/lib/python3.7/site-packages/astropy/units/quantity.py\u001b[0m in \u001b[0;36m__float__\u001b[0;34m(self)\u001b[0m\n\u001b[1;32m   1090\u001b[0m             \u001b[0;32mreturn\u001b[0m \u001b[0mfloat\u001b[0m\u001b[0;34m(\u001b[0m\u001b[0mself\u001b[0m\u001b[0;34m.\u001b[0m\u001b[0mto_value\u001b[0m\u001b[0;34m(\u001b[0m\u001b[0mdimensionless_unscaled\u001b[0m\u001b[0;34m)\u001b[0m\u001b[0;34m)\u001b[0m\u001b[0;34m\u001b[0m\u001b[0;34m\u001b[0m\u001b[0m\n\u001b[1;32m   1091\u001b[0m         \u001b[0;32mexcept\u001b[0m \u001b[0;34m(\u001b[0m\u001b[0mUnitsError\u001b[0m\u001b[0;34m,\u001b[0m \u001b[0mTypeError\u001b[0m\u001b[0;34m)\u001b[0m\u001b[0;34m:\u001b[0m\u001b[0;34m\u001b[0m\u001b[0;34m\u001b[0m\u001b[0m\n\u001b[0;32m-> 1092\u001b[0;31m             raise TypeError('only dimensionless scalar quantities can be '\n\u001b[0m\u001b[1;32m   1093\u001b[0m                             'converted to Python scalars')\n\u001b[1;32m   1094\u001b[0m \u001b[0;34m\u001b[0m\u001b[0m\n",
      "\u001b[0;31mTypeError\u001b[0m: only dimensionless scalar quantities can be converted to Python scalars"
     ]
    }
   ],
   "source": [
    "synphot.generate_wavelengths(500*u.nm,600*u.nm ,delta=10*u.nm ,log=False)"
   ]
  },
  {
   "cell_type": "code",
   "execution_count": null,
   "id": "753f5779",
   "metadata": {},
   "outputs": [],
   "source": []
  }
 ],
 "metadata": {
  "kernelspec": {
   "display_name": "Python 3 (ipykernel)",
   "language": "python",
   "name": "python3"
  },
  "language_info": {
   "codemirror_mode": {
    "name": "ipython",
    "version": 3
   },
   "file_extension": ".py",
   "mimetype": "text/x-python",
   "name": "python",
   "nbconvert_exporter": "python",
   "pygments_lexer": "ipython3",
   "version": "3.7.11"
  }
 },
 "nbformat": 4,
 "nbformat_minor": 5
}
